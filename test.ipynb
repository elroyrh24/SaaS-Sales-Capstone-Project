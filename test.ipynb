{
 "cells": [
  {
   "cell_type": "code",
   "execution_count": 6,
   "metadata": {},
   "outputs": [
    {
     "name": "stdout",
     "output_type": "stream",
     "text": [
      "total: 22\n",
      "reverse: 7654\n"
     ]
    }
   ],
   "source": [
    "digits = input(\"Enter the four digit number: \")\n",
    "total = 0\n",
    "reverse =''\n",
    "for number in digits:\n",
    "    total = total + int(number)\n",
    "for number_flip in reversed(digits):\n",
    "    reverse = reverse + number_flip\n",
    "reverse = (reverse)\n",
    "print (\"total: \" + str(total))\n",
    "print(\"reverse: \" + reverse)"
   ]
  }
 ],
 "metadata": {
  "kernelspec": {
   "display_name": "Python 3",
   "language": "python",
   "name": "python3"
  },
  "language_info": {
   "codemirror_mode": {
    "name": "ipython",
    "version": 3
   },
   "file_extension": ".py",
   "mimetype": "text/x-python",
   "name": "python",
   "nbconvert_exporter": "python",
   "pygments_lexer": "ipython3",
   "version": "3.11.4"
  },
  "orig_nbformat": 4
 },
 "nbformat": 4,
 "nbformat_minor": 2
}
